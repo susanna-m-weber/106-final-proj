{
 "cells": [
  {
   "cell_type": "code",
   "execution_count": null,
   "id": "23969074",
   "metadata": {},
   "outputs": [],
   "source": [
    "import serial\n",
    "import time"
   ]
  },
  {
   "cell_type": "code",
   "execution_count": null,
   "id": "49e26866",
   "metadata": {},
   "outputs": [],
   "source": [
    "arduino = serial.Serial(port='COM4', baudrate=115200, timeout=.1)\n",
    "def write_read(x):\n",
    "    arduino.write(bytes(x, 'utf-8'))\n",
    "    time.sleep(0.05)\n",
    "    data = arduino.readline()\n",
    "    return data\n",
    "while True:\n",
    "    num = input(\"Enter a number: \") # Taking input from user\n",
    "    value = write_read(num)\n",
    "    print(value) # printing the value"
   ]
  },
  {
   "cell_type": "code",
   "execution_count": null,
   "id": "58d2a3c3",
   "metadata": {},
   "outputs": [],
   "source": []
  }
 ],
 "metadata": {
  "kernelspec": {
   "display_name": "Python 3 (ipykernel)",
   "language": "python",
   "name": "python3"
  },
  "language_info": {
   "codemirror_mode": {
    "name": "ipython",
    "version": 3
   },
   "file_extension": ".py",
   "mimetype": "text/x-python",
   "name": "python",
   "nbconvert_exporter": "python",
   "pygments_lexer": "ipython3",
   "version": "3.10.8"
  }
 },
 "nbformat": 4,
 "nbformat_minor": 5
}
