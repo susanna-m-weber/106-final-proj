{
 "cells": [
  {
   "cell_type": "code",
   "execution_count": null,
   "id": "bf30208f",
   "metadata": {},
   "outputs": [],
   "source": [
    "import serial \n",
    "import time "
   ]
  },
  {
   "cell_type": "code",
   "execution_count": null,
   "id": "1c6bdf52",
   "metadata": {},
   "outputs": [],
   "source": [
    "arduino = serial.Serial(port='COM4', baudrate=115200, timeout=.1)\n",
    "def write_read(x):\n",
    "    arduino.write(bytes(x, 'utf-8'))\n",
    "    time.sleep(0.05)\n",
    "    data = arduino.readline()\n",
    "    return data\n",
    "while True:\n",
    "    num = input(\"Enter a number: \") # Taking input from user\n",
    "    value = write_read(num)\n",
    "    print(value) # printing the value"
   ]
  },
  {
   "cell_type": "code",
   "execution_count": null,
   "id": "dbb25098",
   "metadata": {},
   "outputs": [],
   "source": [
    "arduino.close()"
   ]
  },
  {
   "cell_type": "code",
   "execution_count": null,
   "id": "6a102aef",
   "metadata": {},
   "outputs": [],
   "source": [
    "ser = serial.Serial()\n",
    "ser.baudrate = 115200\n",
    "ser.port = 'COM4'\n",
    "ser.open()\n",
    "\n",
    "values = input(\"Enter a number: \") \n",
    "\n",
    "while True:\n",
    "    time.sleep(5)\n",
    "    ser.write(bytes(values, 'utf-8'))\n",
    "    try:\n",
    "        print(f'Characters in ser buffer = {ser.in_waiting}')\n",
    "        for i in range(ser.in_waiting):\n",
    "            print (ser.read())\n",
    "    except:\n",
    "        print(\"pass\")\n",
    " \n",
    "print(\"done\")\n",
    " \n",
    "ser.close()"
   ]
  },
  {
   "cell_type": "code",
   "execution_count": null,
   "id": "d6fb2bf0",
   "metadata": {},
   "outputs": [],
   "source": [
    "ser.close()"
   ]
  },
  {
   "cell_type": "code",
   "execution_count": null,
   "id": "8ffe6f0a",
   "metadata": {},
   "outputs": [],
   "source": [
    "ser = serial.Serial()\n",
    "ser.baudrate = 115200\n",
    "ser.port = 'COM4'\n",
    "ser.open()\n",
    "\n",
    "values = bytearray([4, 9, 62, 144, 56, 30, 147, 3, 210, 89, 111, 78, 184, 151, 17, 129])\n",
    "while True:\n",
    "    time.sleep(5)\n",
    "    ser.write(values)\n",
    "    try:\n",
    "        print(f'Characters in ser buffer = {ser.in_waiting}')\n",
    "        for i in range(ser.in_waiting):\n",
    "            print (ord(ser.read()))\n",
    "    except:\n",
    "        print(\"pass\")\n",
    " \n",
    "print(\"done\")\n",
    " \n",
    "ser.close()"
   ]
  },
  {
   "cell_type": "code",
   "execution_count": null,
   "id": "4f21b8a8",
   "metadata": {},
   "outputs": [],
   "source": []
  }
 ],
 "metadata": {
  "kernelspec": {
   "display_name": "Python 3 (ipykernel)",
   "language": "python",
   "name": "python3"
  },
  "language_info": {
   "codemirror_mode": {
    "name": "ipython",
    "version": 3
   },
   "file_extension": ".py",
   "mimetype": "text/x-python",
   "name": "python",
   "nbconvert_exporter": "python",
   "pygments_lexer": "ipython3",
   "version": "3.10.8"
  }
 },
 "nbformat": 4,
 "nbformat_minor": 5
}
