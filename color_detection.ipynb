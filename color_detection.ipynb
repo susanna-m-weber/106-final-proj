{
 "cells": [
  {
   "cell_type": "code",
   "execution_count": null,
   "id": "2ef393a0",
   "metadata": {},
   "outputs": [],
   "source": [
    "import cv2\n",
    "import numpy as np\n",
    "from matplotlib import pyplot as plt\n",
    "import serial \n",
    "import time"
   ]
  },
  {
   "cell_type": "code",
   "execution_count": null,
   "id": "691d50bd",
   "metadata": {},
   "outputs": [],
   "source": [
    "cap = cv2.VideoCapture(0)\n",
    "print(cap.isOpened())"
   ]
  },
  {
   "cell_type": "code",
   "execution_count": null,
   "id": "45b5cb5a",
   "metadata": {},
   "outputs": [],
   "source": [
    "# close out of program by pressing q\n",
    "arduino = serial.Serial(port='COM4', baudrate=115200, timeout=.1)\n",
    "\n",
    "while cap.isOpened():\n",
    "    _, imageFrame = cap.read()\n",
    "    hsvFrame = cv2.cvtColor(imageFrame, cv2.COLOR_BGR2HSV)\n",
    "    \n",
    "    blue_lower = np.array([90, 50, 70], np.uint8)\n",
    "    blue_upper = np.array([115, 255, 255], np.uint8)\n",
    "    blue_mask = cv2.inRange(hsvFrame, blue_lower, blue_upper)\n",
    "    \n",
    "    red_lower_0 = np.array([0, 100, 100], np.uint8)\n",
    "    red_upper_0 = np.array([10, 255, 255], np.uint8)\n",
    "    red_mask_0 = cv2.inRange(hsvFrame, red_lower_0, red_upper_0)\n",
    "    \n",
    "    red_lower_1 = np.array([160, 100, 100], np.uint8)\n",
    "    red_upper_1 = np.array([179, 255, 255], np.uint8)\n",
    "    red_mask_1 = cv2.inRange(hsvFrame, red_lower_1, red_upper_1)\n",
    "    \n",
    "    red_mask = red_mask_0 + red_mask_1\n",
    "    \n",
    "    green_lower = np.array([60, 100, 50], np.uint8)\n",
    "    green_upper = np.array([80, 255, 255], np.uint8)\n",
    "    green_mask = cv2.inRange(hsvFrame, green_lower, green_upper)\n",
    "\n",
    "    kernal = np.ones((5, 5), \"uint8\")\n",
    "    \n",
    "    red_mask = cv2.dilate(red_mask, kernal)\n",
    "    res_red = cv2.bitwise_and(imageFrame, imageFrame, mask = red_mask)\n",
    "    \n",
    "    blue_mask = cv2.dilate(blue_mask, kernal)\n",
    "    res_blue = cv2.bitwise_and(imageFrame, imageFrame, mask = blue_mask)\n",
    "    \n",
    "    green_mask = cv2.dilate(green_mask, kernal)\n",
    "    res_green = cv2.bitwise_and(imageFrame, imageFrame, mask = green_mask)\n",
    "    \n",
    "    # Creating contour to track blue color\n",
    "    contours, hierarchy = cv2.findContours(blue_mask, cv2.RETR_TREE, cv2.CHAIN_APPROX_SIMPLE)\n",
    "    contours_g, hierarchy_g = cv2.findContours(green_mask, cv2.RETR_TREE, cv2.CHAIN_APPROX_SIMPLE)\n",
    "    contours_r, hierarchy_r = cv2.findContours(red_mask,cv2.RETR_TREE,cv2.CHAIN_APPROX_SIMPLE)\n",
    "    \n",
    "    if contours_r:\n",
    "        red_max_contour = max(contours_r, key = cv2.contourArea)\n",
    "        x_r_max, y_r_max, w_r_max, h_r_max = cv2.boundingRect(red_max_contour)\n",
    "        imageFrame = cv2.rectangle(imageFrame, (x_r_max, y_r_max), (x_r_max + w_r_max, y_r_max + h_r_max), (0, 0, 255), 2)\n",
    "        cv2.putText(imageFrame, f\"Center Coordinate: {(x_r_max + w_r_max) / 2}, {(y_r_max + h_r_max) / 2}\", (x_r_max, y_r_max), cv2.FONT_HERSHEY_SIMPLEX, 0.6, (0,0, 255))\n",
    "        arduino.write(bytes(\"1\", 'utf-8'))\n",
    "        time.sleep(0.05)\n",
    "        datar = arduino.readline()\n",
    "        print(datar)\n",
    "        \n",
    "    if contours_g:\n",
    "        green_max_contour = max(contours_g, key = cv2.contourArea)\n",
    "        x_g_max, y_g_max, w_g_max, h_g_max = cv2.boundingRect(green_max_contour)\n",
    "        imageFrame = cv2.rectangle(imageFrame, (x_g_max, y_g_max), (x_g_max + w_g_max, y_g_max + h_g_max), (0, 255, 0), 2)\n",
    "        cv2.putText(imageFrame, f\"Center Coordinate: {(x_g_max + w_g_max) / 2}, {(y_g_max + h_g_max) / 2}\", (x_g_max, y_g_max), cv2.FONT_HERSHEY_SIMPLEX, 0.6, (0, 255, 0))\n",
    "        arduino.write(bytes(\"0\", 'utf-8'))\n",
    "        time.sleep(0.05)\n",
    "        datag = arduino.readline()\n",
    "        print(datag)\n",
    "    \n",
    "    if not contours_r and not contours_g: \n",
    "        arduino.write(bytes(\"2\", 'utf-8'))\n",
    "        \n",
    "    if contours_r and contours_g:\n",
    "        dist_red2green = np.sqrt((x_r_max - x_g_max)**2 + (y_r_max - y_g_max)**2 )\n",
    "        cv2.putText(imageFrame, f\"Big red boy: {x_r_max}, {y_r_max}\",(50, 20), cv2.FONT_HERSHEY_SIMPLEX, 0.6, (0, 0, 0))\n",
    "        cv2.putText(imageFrame, f\"Big green boy: {x_g_max}, {y_g_max}\",(50, 50), cv2.FONT_HERSHEY_SIMPLEX, 0.6, (0, 0, 0))\n",
    "        cv2.putText(imageFrame, f\"Distance: {dist_red2green}\", (50, 80), cv2.FONT_HERSHEY_SIMPLEX, 0.6, (0, 0, 0))\n",
    "    \n",
    "    #cv2.imshow(\"Mask\", red_mask)\n",
    "    cv2.imshow(\"Webcam\", imageFrame)\n",
    "    \n",
    "    if cv2.waitKey(1) & 0xFF == ord('q'):\n",
    "        break\n",
    "\n",
    "cap.release()\n",
    "cv2.destroyAllWindows()"
   ]
  },
  {
   "cell_type": "code",
   "execution_count": null,
   "id": "54ad2eee",
   "metadata": {},
   "outputs": [],
   "source": [
    "#     for pic, contour in enumerate(contours):\n",
    "#         area = cv2.contourArea(contour)\n",
    "#         area_list.append(area)\n",
    "#         #print(\"area list\", area_list)\n",
    "#         if(area > 1500):\n",
    "#             x, y, w, h = cv2.boundingRect(contour)\n",
    "#             imageFrame = cv2.rectangle(imageFrame, (x, y), (x + w, y + h), (255, 0, 0), 2)\n",
    "#             #cv2.putText(imageFrame, \"Blue Colour\", (x, y), cv2.FONT_HERSHEY_SIMPLEX, 1.0, (255, 0, 0))\n",
    "#             cv2.putText(imageFrame, f\"Center Coordinate: {(x + w) / 2}, {(y + h) / 2}\", (x, y), cv2.FONT_HERSHEY_SIMPLEX, 0.6, (255, 0, 0))"
   ]
  },
  {
   "cell_type": "code",
   "execution_count": 1,
   "id": "466fcc47",
   "metadata": {},
   "outputs": [
    {
     "ename": "NameError",
     "evalue": "name 'arduino' is not defined",
     "output_type": "error",
     "traceback": [
      "\u001b[1;31m---------------------------------------------------------------------------\u001b[0m",
      "\u001b[1;31mNameError\u001b[0m                                 Traceback (most recent call last)",
      "Cell \u001b[1;32mIn [1], line 1\u001b[0m\n\u001b[1;32m----> 1\u001b[0m \u001b[43marduino\u001b[49m\u001b[38;5;241m.\u001b[39mclose()\n",
      "\u001b[1;31mNameError\u001b[0m: name 'arduino' is not defined"
     ]
    }
   ],
   "source": [
    "arduino.close()"
   ]
  },
  {
   "cell_type": "code",
   "execution_count": null,
   "id": "d3558251",
   "metadata": {},
   "outputs": [],
   "source": []
  }
 ],
 "metadata": {
  "kernelspec": {
   "display_name": "Python 3 (ipykernel)",
   "language": "python",
   "name": "python3"
  },
  "language_info": {
   "codemirror_mode": {
    "name": "ipython",
    "version": 3
   },
   "file_extension": ".py",
   "mimetype": "text/x-python",
   "name": "python",
   "nbconvert_exporter": "python",
   "pygments_lexer": "ipython3",
   "version": "3.10.8"
  }
 },
 "nbformat": 4,
 "nbformat_minor": 5
}
