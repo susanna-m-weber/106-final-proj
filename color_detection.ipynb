{
 "cells": [
  {
   "cell_type": "code",
   "execution_count": null,
   "id": "2ef393a0",
   "metadata": {},
   "outputs": [],
   "source": [
    "import cv2\n",
    "import numpy as np\n",
    "from matplotlib import pyplot as plt"
   ]
  },
  {
   "cell_type": "code",
   "execution_count": null,
   "id": "691d50bd",
   "metadata": {},
   "outputs": [],
   "source": [
    "cap = cv2.VideoCapture(0)\n",
    "print(cap.isOpened())"
   ]
  },
  {
   "cell_type": "code",
   "execution_count": null,
   "id": "45b5cb5a",
   "metadata": {},
   "outputs": [],
   "source": [
    "# close out of program by pressing q\n",
    "while cap.isOpened():\n",
    "    _, imageFrame = cap.read()\n",
    "    hsvFrame = cv2.cvtColor(imageFrame, cv2.COLOR_BGR2HSV)\n",
    "    blue_lower = np.array([100, 80, 2], np.uint8)\n",
    "    blue_upper = np.array([120, 255, 255], np.uint8)\n",
    "    blue_mask = cv2.inRange(hsvFrame, blue_lower, blue_upper)\n",
    "\n",
    "    kernal = np.ones((5, 5), \"uint8\")\n",
    "    \n",
    "    blue_mask = cv2.dilate(blue_mask, kernal)\n",
    "    res_blue = cv2.bitwise_and(imageFrame, imageFrame, mask = blue_mask)\n",
    "    \n",
    "    # Creating contour to track blue color\n",
    "    contours, hierarchy = cv2.findContours(blue_mask, cv2.RETR_TREE, cv2.CHAIN_APPROX_SIMPLE)\n",
    "    #print(\"area list\",area_list)\n",
    "\n",
    "    area_list = []\n",
    "    for pic, contour in enumerate(contours):\n",
    "        area = cv2.contourArea(contour)\n",
    "        area_list.append(area)\n",
    "        #print(\"area list\", area_list)\n",
    "        if(area > 1500):\n",
    "            x, y, w, h = cv2.boundingRect(contour)\n",
    "            imageFrame = cv2.rectangle(imageFrame, (x, y), (x + w, y + h), (255, 0, 0), 2)\n",
    "            #cv2.putText(imageFrame, \"Blue Colour\", (x, y), cv2.FONT_HERSHEY_SIMPLEX, 1.0, (255, 0, 0))\n",
    "            cv2.putText(imageFrame, f\"Center Coordinate: {(x + w) / 2}, {(y + h) / 2}\", (x, y), cv2.FONT_HERSHEY_SIMPLEX, 0.6, (255, 0, 0))\n",
    "    cv2.imshow(\"Mask\", blue_mask)\n",
    "    cv2.imshow(\"Webcam\", imageFrame)\n",
    "\n",
    "    if cv2.waitKey(1) & 0xFF == ord('q'):\n",
    "        break\n",
    "\n",
    "cap.release()\n",
    "cv2.destroyAllWindows()"
   ]
  }
 ],
 "metadata": {
  "kernelspec": {
   "display_name": "Python 3 (ipykernel)",
   "language": "python",
   "name": "python3"
  },
  "language_info": {
   "codemirror_mode": {
    "name": "ipython",
    "version": 3
   },
   "file_extension": ".py",
   "mimetype": "text/x-python",
   "name": "python",
   "nbconvert_exporter": "python",
   "pygments_lexer": "ipython3",
   "version": "3.10.8"
  }
 },
 "nbformat": 4,
 "nbformat_minor": 5
}
